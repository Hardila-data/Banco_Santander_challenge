{
 "cells": [
  {
   "cell_type": "markdown",
   "metadata": {},
   "source": [
    "<hr>"
   ]
  },
  {
   "cell_type": "markdown",
   "metadata": {},
   "source": [
    "<h1> Instrucciones de ejecución de los notebooks</h1>"
   ]
  },
  {
   "cell_type": "markdown",
   "metadata": {},
   "source": [
    "<p>En este notebook se encuentran los pasos necesarios para ejecutar los notebooks de este repositorio :</p>\n",
    "<ul>\n",
    "    <li>Ingresar el siguiente link de kaggle <a>https://www.kaggle.com/c/santander-product-recommendation/data</a> donde se encuentran los archivos con extension csv para su descarga</li>\n",
    "    <li>Crear una carpeta local en la cual se almacenen los archivos de kaggle train_ver2.csv, test_ver2.csv y sample_submission.csv junto con los notebooks del repositório</li>\n",
    "    <li>Por ultimo ejecutar los notebooks</li>\n",
    "    <li>El notebook <b>Banco Santander sistema de Recomendación</b> es el que mejor resultado arroja en sus métricas, en este se crean nuevas características con respecto al estado de los productos en meses anteriores, utiliza XGBost.</li>\n",
    "    <li>El notebook <b>Banco Santander sistema de Recomendación-Random-Forest</b> utiliza Bosque Aleatório para generar las recomendaciones, en este se crean nuevas características con respecto al estado de los productos en meses anteriores.</li>\n",
    "    <li>El notebook <b>Banco Santander sistema de Recomendación-Random-Forest-meses</b> utiliza Bosque Aleatório para generar las recomendaciones, utilizando distintos paquetes de entrenamiento, obtenidos creando agrupaciones de distintos meses que posee el archivo train_ver2.csv. Solo se usan las características demográficas.</li>\n",
    "</ul>"
   ]
  }
 ],
 "metadata": {
  "kernelspec": {
   "display_name": "Python 3",
   "language": "python",
   "name": "python3"
  },
  "language_info": {
   "codemirror_mode": {
    "name": "ipython",
    "version": 3
   },
   "file_extension": ".py",
   "mimetype": "text/x-python",
   "name": "python",
   "nbconvert_exporter": "python",
   "pygments_lexer": "ipython3",
   "version": "3.8.3"
  }
 },
 "nbformat": 4,
 "nbformat_minor": 4
}
